{
 "cells": [
  {
   "cell_type": "code",
   "execution_count": null,
   "id": "b1b1f7da-c974-4987-b1aa-08239b0613ea",
   "metadata": {},
   "outputs": [
    {
     "name": "stdout",
     "output_type": "stream",
     "text": [
      "=== Caesar Cipher Program ===\n"
     ]
    },
    {
     "name": "stdin",
     "output_type": "stream",
     "text": [
      "\n",
      "Enter 'E' to Encrypt or 'D' to Decrypt (or 'Q' to Quit):  E\n",
      "Enter your message:  hello world \n",
      "Enter shift value (integer):  11\n"
     ]
    },
    {
     "name": "stdout",
     "output_type": "stream",
     "text": [
      "\n",
      "🔒 Encrypted Message: spwwz hzcwo \n"
     ]
    },
    {
     "name": "stdin",
     "output_type": "stream",
     "text": [
      "\n",
      "Enter 'E' to Encrypt or 'D' to Decrypt (or 'Q' to Quit):  D\n",
      "Enter your message:  siva royal\n",
      "Enter shift value (integer):  22\n"
     ]
    },
    {
     "name": "stdout",
     "output_type": "stream",
     "text": [
      "\n",
      "🔓 Decrypted Message: wmze vscep\n"
     ]
    }
   ],
   "source": [
    "def encrypt(text, shift):\n",
    "    \"\"\"\n",
    "    Encrypts the input text using Caesar Cipher with the given shift value.\n",
    "    \"\"\"\n",
    "    result = \"\"\n",
    "    for char in text:\n",
    "        if char.isalpha():\n",
    "            base = ord('A') if char.isupper() else ord('a')\n",
    "            result += chr((ord(char) - base + shift) % 26 + base)\n",
    "        else:\n",
    "            result += char\n",
    "    return result\n",
    "\n",
    "\n",
    "def decrypt(text, shift):\n",
    "    \"\"\"\n",
    "    Decrypts the input text using Caesar Cipher with the given shift value.\n",
    "    \"\"\"\n",
    "    return encrypt(text, -shift)\n",
    "\n",
    "\n",
    "# Main Program\n",
    "print(\"=== Caesar Cipher Program ===\")\n",
    "\n",
    "while True:\n",
    "    choice = input(\"\\nEnter 'E' to Encrypt or 'D' to Decrypt (or 'Q' to Quit): \").upper()\n",
    "\n",
    "    if choice == 'Q':\n",
    "        print(\"Exiting program. Goodbye!\")\n",
    "        break\n",
    "\n",
    "    message = input(\"Enter your message: \")\n",
    "\n",
    "    # Validate shift input\n",
    "    while True:\n",
    "        try:\n",
    "            shift = int(input(\"Enter shift value (integer): \"))\n",
    "            break\n",
    "        except ValueError:\n",
    "            print(\"Invalid input. Please enter an integer.\")\n",
    "\n",
    "    if choice == 'E':\n",
    "        encrypted_text = encrypt(message, shift)\n",
    "        print(f\"\\n🔒 Encrypted Message: {encrypted_text}\")\n",
    "    elif choice == 'D':\n",
    "        decrypted_text = decrypt(message, shift)\n",
    "        print(f\"\\n🔓 Decrypted Message: {decrypted_text}\")\n",
    "    else:\n",
    "        print(\"Invalid choice. Please enter E, D, or Q.\")\n"
   ]
  },
  {
   "cell_type": "code",
   "execution_count": null,
   "id": "c463024c-3084-43fe-893b-52a336bb29f0",
   "metadata": {},
   "outputs": [],
   "source": []
  }
 ],
 "metadata": {
  "kernelspec": {
   "display_name": "Python [conda env:base] *",
   "language": "python",
   "name": "conda-base-py"
  },
  "language_info": {
   "codemirror_mode": {
    "name": "ipython",
    "version": 3
   },
   "file_extension": ".py",
   "mimetype": "text/x-python",
   "name": "python",
   "nbconvert_exporter": "python",
   "pygments_lexer": "ipython3",
   "version": "3.13.5"
  }
 },
 "nbformat": 4,
 "nbformat_minor": 5
}
